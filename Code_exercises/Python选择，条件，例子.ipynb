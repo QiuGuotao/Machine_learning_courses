{
 "cells": [
  {
   "cell_type": "code",
   "execution_count": 1,
   "id": "56799d2d",
   "metadata": {},
   "outputs": [
    {
     "name": "stdout",
     "output_type": "stream",
     "text": [
      "the square a is 25\n"
     ]
    }
   ],
   "source": [
    "a = -5\n",
    "if a > 0:\n",
    "    print('a is positive')\n",
    "print('the square a is', a * a)"
   ]
  },
  {
   "cell_type": "code",
   "execution_count": 2,
   "id": "a9b509d9",
   "metadata": {},
   "outputs": [
    {
     "name": "stdout",
     "output_type": "stream",
     "text": [
      "temp is liquid\n"
     ]
    }
   ],
   "source": [
    "temp = 25\n",
    "if temp > 100:\n",
    "    print('temp is gas')\n",
    "elif temp > 0:\n",
    "    print('temp is liquid')\n",
    "else:\n",
    "    print('temp is solid')"
   ]
  },
  {
   "cell_type": "code",
   "execution_count": 3,
   "id": "9ad78040",
   "metadata": {},
   "outputs": [
    {
     "name": "stdout",
     "output_type": "stream",
     "text": [
      "a =  1\n",
      "a =  2\n",
      "a =  3\n",
      "a =  4\n",
      "a =  5\n",
      "a =  6\n",
      "a =  7\n",
      "a =  8\n",
      "a =  9\n"
     ]
    }
   ],
   "source": [
    "a = 1\n",
    "while a < 10:\n",
    "    print('a = ',a)\n",
    "    a = a+1"
   ]
  },
  {
   "cell_type": "code",
   "execution_count": 4,
   "id": "edf6e942",
   "metadata": {},
   "outputs": [
    {
     "name": "stdout",
     "output_type": "stream",
     "text": [
      "a =  3\n",
      "a =  6\n",
      "a =  9\n",
      "a =  12\n",
      "a =  15\n",
      "a =  18\n",
      "a is large than 20\n"
     ]
    }
   ],
   "source": [
    "a = 1\n",
    "while a < 20:\n",
    "    if a % 3 == 0:\n",
    "        print('a = ',a)\n",
    "    a = a + 1\n",
    "else:\n",
    "    print('a is large than 20')"
   ]
  },
  {
   "cell_type": "code",
   "execution_count": 5,
   "id": "58e30172",
   "metadata": {},
   "outputs": [],
   "source": [
    "print?"
   ]
  },
  {
   "cell_type": "code",
   "execution_count": 6,
   "id": "3fe19d55",
   "metadata": {
    "scrolled": true
   },
   "outputs": [
    {
     "name": "stdout",
     "output_type": "stream",
     "text": [
      "1 1 2 3 5 8 13 21 34 55 89 "
     ]
    }
   ],
   "source": [
    "a = 1\n",
    "b = 1\n",
    "while a < 100:\n",
    "    print(a,end = ' ')\n",
    "    a,b = b,a + b"
   ]
  },
  {
   "cell_type": "code",
   "execution_count": 7,
   "id": "815e73bb",
   "metadata": {
    "scrolled": true
   },
   "outputs": [
    {
     "name": "stdout",
     "output_type": "stream",
     "text": [
      "1 1 2 3 5 8 13 21 34 55 89 "
     ]
    }
   ],
   "source": [
    "a = 1\n",
    "b = 1\n",
    "while a < 100:\n",
    "    print(a,end = ' ')\n",
    "    b = a + b\n",
    "    a = b - a"
   ]
  },
  {
   "cell_type": "code",
   "execution_count": 8,
   "id": "cfc41ad8",
   "metadata": {},
   "outputs": [
    {
     "data": {
      "text/plain": [
       "233"
      ]
     },
     "execution_count": 8,
     "metadata": {},
     "output_type": "execute_result"
    }
   ],
   "source": [
    "b"
   ]
  },
  {
   "cell_type": "code",
   "execution_count": 9,
   "id": "ce8fcb72",
   "metadata": {},
   "outputs": [
    {
     "data": {
      "text/plain": [
       "144"
      ]
     },
     "execution_count": 9,
     "metadata": {},
     "output_type": "execute_result"
    }
   ],
   "source": [
    "a"
   ]
  },
  {
   "cell_type": "code",
   "execution_count": 10,
   "id": "ccc6d36a",
   "metadata": {},
   "outputs": [
    {
     "name": "stdout",
     "output_type": "stream",
     "text": [
      "['red', 'purple', 'blue']\n",
      "['red', 'purple']\n",
      "['red']\n"
     ]
    }
   ],
   "source": [
    "a = ['red', 'purple', 'blue']\n",
    "while a:\n",
    "    print(a)\n",
    "    a.pop()"
   ]
  },
  {
   "cell_type": "code",
   "execution_count": 11,
   "id": "acb71c93",
   "metadata": {},
   "outputs": [
    {
     "name": "stdout",
     "output_type": "stream",
     "text": [
      "['red', 'purple', 'blue']\n",
      "['red', 'purple']\n"
     ]
    }
   ],
   "source": [
    "a = ['red', 'purple', 'blue']\n",
    "while 'blue' in a:\n",
    "    print(a)\n",
    "    a. remove('blue')\n",
    "print(a)"
   ]
  },
  {
   "cell_type": "code",
   "execution_count": 12,
   "id": "bc824903",
   "metadata": {},
   "outputs": [
    {
     "name": "stdout",
     "output_type": "stream",
     "text": [
      "H\n",
      "C\n",
      "N\n"
     ]
    }
   ],
   "source": [
    "molecule = ['H', 'C','N']\n",
    "for i in molecule:  #只获取值\n",
    "    print (i)"
   ]
  },
  {
   "cell_type": "code",
   "execution_count": 13,
   "id": "45f05bf8",
   "metadata": {},
   "outputs": [],
   "source": [
    "molecule[0] = 'Na'"
   ]
  },
  {
   "cell_type": "code",
   "execution_count": 14,
   "id": "a6065512",
   "metadata": {},
   "outputs": [
    {
     "data": {
      "text/plain": [
       "['Na', 'C', 'N']"
      ]
     },
     "execution_count": 14,
     "metadata": {},
     "output_type": "execute_result"
    }
   ],
   "source": [
    "molecule"
   ]
  },
  {
   "cell_type": "code",
   "execution_count": 15,
   "id": "93264ea8",
   "metadata": {},
   "outputs": [
    {
     "name": "stdout",
     "output_type": "stream",
     "text": [
      "0 Na\n",
      "1 C\n",
      "2 N\n"
     ]
    }
   ],
   "source": [
    "for i, ele in enumerate(molecule): #索引和值都获取\n",
    "    print(i, ele)"
   ]
  },
  {
   "cell_type": "code",
   "execution_count": 16,
   "id": "26b1212d",
   "metadata": {},
   "outputs": [
    {
     "name": "stdout",
     "output_type": "stream",
     "text": [
      "0 C\n",
      "1 H\n",
      "2 3\n"
     ]
    }
   ],
   "source": [
    "mole = 'CH3COOH'\n",
    "for i, j in enumerate(mole):\n",
    "    if i == 3:\n",
    "        break #跳出所有循环\n",
    "    print (i, j)"
   ]
  },
  {
   "cell_type": "code",
   "execution_count": 17,
   "id": "044a67be",
   "metadata": {},
   "outputs": [
    {
     "name": "stdout",
     "output_type": "stream",
     "text": [
      "0 C\n",
      "1 H\n",
      "2 3\n",
      "4 O\n",
      "5 O\n",
      "6 H\n"
     ]
    }
   ],
   "source": [
    "mole = 'CH3COOH'\n",
    "for i, j in enumerate(mole):\n",
    "    if i == 3:\n",
    "        continue # 跳出当前循环\n",
    "    print (i, j)"
   ]
  },
  {
   "cell_type": "code",
   "execution_count": 18,
   "id": "e17e902f",
   "metadata": {},
   "outputs": [
    {
     "name": "stdout",
     "output_type": "stream",
     "text": [
      "0 3 6 9 12 15 18 "
     ]
    }
   ],
   "source": [
    "for i in range(0, 21, 3):\n",
    "    print(i, end = ' ')"
   ]
  },
  {
   "cell_type": "code",
   "execution_count": 19,
   "id": "1fecb9c8",
   "metadata": {},
   "outputs": [],
   "source": [
    "a = []\n",
    "for i in range (10):\n",
    "    a.append(0)"
   ]
  },
  {
   "cell_type": "code",
   "execution_count": 20,
   "id": "e02fea0c",
   "metadata": {},
   "outputs": [
    {
     "data": {
      "text/plain": [
       "[0, 0, 0, 0, 0, 0, 0, 0, 0, 0]"
      ]
     },
     "execution_count": 20,
     "metadata": {},
     "output_type": "execute_result"
    }
   ],
   "source": [
    "a"
   ]
  },
  {
   "cell_type": "code",
   "execution_count": 21,
   "id": "39fb3afd",
   "metadata": {},
   "outputs": [
    {
     "data": {
      "text/plain": [
       "[0, 0, 0, 0, 0, 0, 0, 0, 0, 0]"
      ]
     },
     "execution_count": 21,
     "metadata": {},
     "output_type": "execute_result"
    }
   ],
   "source": [
    "a =[0] * 10\n",
    "a"
   ]
  },
  {
   "cell_type": "code",
   "execution_count": 22,
   "id": "25ce7d59",
   "metadata": {},
   "outputs": [
    {
     "name": "stdout",
     "output_type": "stream",
     "text": [
      "3\n",
      "0\n",
      "1\n",
      "2\n"
     ]
    }
   ],
   "source": [
    "molecule = ['H', 'C','N']\n",
    "print(len(molecule))\n",
    "for i in range(len(molecule)): #只获取索引\n",
    "    print (i)"
   ]
  },
  {
   "cell_type": "markdown",
   "id": "3a009bc7",
   "metadata": {},
   "source": [
    "# 15：04 继续"
   ]
  },
  {
   "cell_type": "code",
   "execution_count": 23,
   "id": "95a65a4e",
   "metadata": {},
   "outputs": [
    {
     "name": "stdout",
     "output_type": "stream",
     "text": [
      "*\n"
     ]
    }
   ],
   "source": [
    "a = '*'\n",
    "print (a)"
   ]
  },
  {
   "cell_type": "code",
   "execution_count": 24,
   "id": "1845b8f6",
   "metadata": {},
   "outputs": [
    {
     "name": "stdout",
     "output_type": "stream",
     "text": [
      "\n",
      "*\n",
      "**\n",
      "***\n",
      "****\n",
      "****\n",
      "***\n",
      "**\n",
      "*\n"
     ]
    }
   ],
   "source": [
    "a = '*'\n",
    "for i in range(9):\n",
    "    if i < 5:\n",
    "        print ('*' * i)\n",
    "    else:\n",
    "        print ('*' * (9-i))"
   ]
  },
  {
   "cell_type": "code",
   "execution_count": 25,
   "id": "a489868c",
   "metadata": {},
   "outputs": [
    {
     "name": "stdout",
     "output_type": "stream",
     "text": [
      "0\n",
      "1\n",
      "2\n",
      "3\n",
      "4\n"
     ]
    }
   ],
   "source": [
    "for i in range(5):\n",
    "    print(i)\n",
    "    i = 10"
   ]
  },
  {
   "cell_type": "code",
   "execution_count": 27,
   "id": "dcdb0e1b",
   "metadata": {},
   "outputs": [],
   "source": [
    "def phase(t):  #定义函数\n",
    "    if t > 100:\n",
    "        print('is gas')\n",
    "    elif t > 0:\n",
    "        print('is liquid')\n",
    "    else:\n",
    "        print('is solid')"
   ]
  },
  {
   "cell_type": "code",
   "execution_count": 28,
   "id": "be6582e4",
   "metadata": {},
   "outputs": [
    {
     "name": "stdout",
     "output_type": "stream",
     "text": [
      "is liquid\n"
     ]
    }
   ],
   "source": [
    "phase(50)"
   ]
  },
  {
   "cell_type": "code",
   "execution_count": 30,
   "id": "cb4412a1",
   "metadata": {},
   "outputs": [
    {
     "name": "stdout",
     "output_type": "stream",
     "text": [
      "1\n",
      "1\n",
      "2\n",
      "1\n"
     ]
    }
   ],
   "source": [
    "def fun(b):\n",
    "    print(b)\n",
    "    b = b + 1\n",
    "    print(b)\n",
    "\n",
    "a = 1\n",
    "print(a)\n",
    "fun(a) # b = a, fun(b)\n",
    "print(a)"
   ]
  },
  {
   "cell_type": "code",
   "execution_count": 32,
   "id": "3bdafcc1",
   "metadata": {},
   "outputs": [
    {
     "name": "stdout",
     "output_type": "stream",
     "text": [
      "1718574987696\n",
      "python\n",
      "1718621812272\n",
      "PYTHON\n"
     ]
    }
   ],
   "source": [
    "a = 'python'\n",
    "print(id(a)) # 不可变变量，字符串，数字，元组\n",
    "print(a)\n",
    "a = a.upper()\n",
    "print(id(a))\n",
    "print(a)"
   ]
  },
  {
   "cell_type": "code",
   "execution_count": 33,
   "id": "fda16ddf",
   "metadata": {},
   "outputs": [
    {
     "name": "stdout",
     "output_type": "stream",
     "text": [
      "[525, 566, 574]\n",
      "[525, 566, 574, 'cm-1']\n"
     ]
    }
   ],
   "source": [
    "def fun(a):\n",
    "    a.append('cm-1')\n",
    "    \n",
    "b=[525, 566, 574] # 可变数据类型； 列表，字典\n",
    "print(b)\n",
    "fun(b)\n",
    "print(b)"
   ]
  },
  {
   "cell_type": "code",
   "execution_count": 35,
   "id": "29cc7938",
   "metadata": {},
   "outputs": [
    {
     "name": "stdout",
     "output_type": "stream",
     "text": [
      "1718623706880\n",
      "[1, 2, 3]\n",
      "1718623706880\n",
      "[1, 2, 3, 4]\n"
     ]
    }
   ],
   "source": [
    "list1 = [1, 2, 3]\n",
    "print(id(list1))\n",
    "print(list1)\n",
    "list1.append(4)\n",
    "print(id(list1))\n",
    "print(list1)"
   ]
  },
  {
   "cell_type": "code",
   "execution_count": 36,
   "id": "d76d46dc",
   "metadata": {},
   "outputs": [],
   "source": [
    "def res(n):\n",
    "    return (1 / (3 * n + 1)) ** 0.5"
   ]
  },
  {
   "cell_type": "code",
   "execution_count": 37,
   "id": "a64c2913",
   "metadata": {},
   "outputs": [
    {
     "data": {
      "text/plain": [
       "0.5"
      ]
     },
     "execution_count": 37,
     "metadata": {},
     "output_type": "execute_result"
    }
   ],
   "source": [
    "res(1)"
   ]
  },
  {
   "cell_type": "code",
   "execution_count": 38,
   "id": "a0e2795c",
   "metadata": {},
   "outputs": [
    {
     "data": {
      "text/plain": [
       "0.3779644730092272"
      ]
     },
     "execution_count": 38,
     "metadata": {},
     "output_type": "execute_result"
    }
   ],
   "source": [
    "res(2)"
   ]
  },
  {
   "cell_type": "code",
   "execution_count": 39,
   "id": "9a779fbe",
   "metadata": {},
   "outputs": [
    {
     "data": {
      "text/plain": [
       "0.2"
      ]
     },
     "execution_count": 39,
     "metadata": {},
     "output_type": "execute_result"
    }
   ],
   "source": [
    "res(8)"
   ]
  },
  {
   "cell_type": "code",
   "execution_count": null,
   "id": "123decc1",
   "metadata": {},
   "outputs": [],
   "source": []
  }
 ],
 "metadata": {
  "kernelspec": {
   "display_name": "Python 3",
   "language": "python",
   "name": "python3"
  },
  "language_info": {
   "codemirror_mode": {
    "name": "ipython",
    "version": 3
   },
   "file_extension": ".py",
   "mimetype": "text/x-python",
   "name": "python",
   "nbconvert_exporter": "python",
   "pygments_lexer": "ipython3",
   "version": "3.8.8"
  }
 },
 "nbformat": 4,
 "nbformat_minor": 5
}
