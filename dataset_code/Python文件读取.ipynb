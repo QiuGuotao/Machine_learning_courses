{
 "cells": [
  {
   "cell_type": "code",
   "execution_count": 2,
   "id": "79e3e852",
   "metadata": {},
   "outputs": [
    {
     "name": "stdout",
     "output_type": "stream",
     "text": [
      "Experiment\n",
      "3.3\n",
      "2.2\n",
      "2.5\n",
      "3.1\n",
      "3.0\n",
      "eV\n"
     ]
    }
   ],
   "source": [
    "f = open('sample.txt', mode = 'r', encoding = 'UTF 8')\n",
    "res = f.read()\n",
    "f.close()\n",
    "print(res)"
   ]
  },
  {
   "cell_type": "code",
   "execution_count": 3,
   "id": "5e85efc2",
   "metadata": {},
   "outputs": [
    {
     "name": "stdout",
     "output_type": "stream",
     "text": [
      "['Experiment\\n', '3.3\\n', '2.2\\n', '2.5\\n', '3.1\\n', '3.0\\n', 'eV']\n"
     ]
    }
   ],
   "source": [
    "f = open('sample.txt', mode = 'r', encoding = 'UTF 8')\n",
    "res = f.readlines() #读所有列\n",
    "f.close()\n",
    "print(res)"
   ]
  },
  {
   "cell_type": "code",
   "execution_count": 11,
   "id": "3a6ff8c9",
   "metadata": {},
   "outputs": [
    {
     "name": "stdout",
     "output_type": "stream",
     "text": [
      "[3.3, 2.2, 2.5, 3.1, 3.0]\n"
     ]
    }
   ],
   "source": [
    "f = open('sample.txt', mode = 'r', encoding = 'UTF 8')\n",
    "f.readline()\n",
    "data = []\n",
    "for i in range(5):\n",
    "    data.append(float(f.readline()))\n",
    "f.close()\n",
    "print(data)"
   ]
  },
  {
   "cell_type": "code",
   "execution_count": 13,
   "id": "4f0f1884",
   "metadata": {},
   "outputs": [
    {
     "name": "stdout",
     "output_type": "stream",
     "text": [
      "[3.3, 2.2, 2.5, 3.1, 3.0]\n"
     ]
    }
   ],
   "source": [
    "f = open('sample.txt', mode = 'r', encoding = 'UTF 8')\n",
    "data = f.readlines()\n",
    "f.close()\n",
    "data = data[1:-1]\n",
    "for i in range(len(data)):\n",
    "    data[i] = float(data[i])\n",
    "print(data)"
   ]
  },
  {
   "cell_type": "code",
   "execution_count": 14,
   "id": "d4a96a2e",
   "metadata": {},
   "outputs": [],
   "source": [
    "def avg_list(a):\n",
    "    sum = 0\n",
    "    for ele in a:\n",
    "        sum = sum + ele\n",
    "        avg = sum / len(a)\n",
    "    return avg"
   ]
  },
  {
   "cell_type": "code",
   "execution_count": 15,
   "id": "c56315aa",
   "metadata": {},
   "outputs": [
    {
     "data": {
      "text/plain": [
       "2.82"
      ]
     },
     "execution_count": 15,
     "metadata": {},
     "output_type": "execute_result"
    }
   ],
   "source": [
    "avg_list(data)"
   ]
  },
  {
   "cell_type": "code",
   "execution_count": 19,
   "id": "bb6429ac",
   "metadata": {},
   "outputs": [],
   "source": [
    "f = open('res.txt', mode = 'w', encoding = 'UTF 8')\n",
    "f.write(str(avg_list(data)) + '\\n')\n",
    "f.write(str(avg_list(data)) + '\\n')\n",
    "f.write(str(avg_list(data)) + '\\n')\n",
    "f.close()"
   ]
  },
  {
   "cell_type": "code",
   "execution_count": 20,
   "id": "bae58aa4",
   "metadata": {},
   "outputs": [
    {
     "name": "stdout",
     "output_type": "stream",
     "text": [
      "[3.3, 2.2, 2.5, 3.1, 3.0]\n"
     ]
    }
   ],
   "source": [
    "with open('sample.txt', mode = 'r', encoding = 'UTF 8') as f:\n",
    "    f.readline()\n",
    "    data = []\n",
    "    for i in range(5):\n",
    "        data.append(float(f.readline()))\n",
    "        \n",
    "print(data)"
   ]
  },
  {
   "cell_type": "code",
   "execution_count": 22,
   "id": "768ab881",
   "metadata": {},
   "outputs": [
    {
     "name": "stdout",
     "output_type": "stream",
     "text": [
      "3.00E-10,2.27E-12,2.24E-12,2.30E-12,2.25E-12,2.22E-12,2.25E-12,2.24E-12\n",
      "\n"
     ]
    }
   ],
   "source": [
    "with open ('didz.csv', mode = 'r', encoding = 'UTF-8') as f:\n",
    "    res = f.readline()\n",
    "print (res)"
   ]
  },
  {
   "cell_type": "code",
   "execution_count": 25,
   "id": "b0655692",
   "metadata": {},
   "outputs": [
    {
     "name": "stdout",
     "output_type": "stream",
     "text": [
      "3.00E-10\n",
      "2.90E-10\n",
      "['2.27E-12', '2.24E-12', '2.30E-12', '2.25E-12', '2.22E-12', '2.25E-12', '2.24E-12']\n",
      "['2.81E-12', '1.84E-12', '2.99E-12', '2.58E-12', '2.31E-12', '2.80E-12', '2.50E-12']\n"
     ]
    }
   ],
   "source": [
    "with open ('didz.csv', mode = 'r', encoding = 'UTF-8') as f: #打开文件并关闭\n",
    "    res = f.readline() #读一列\n",
    "    list1 = res.strip('\\n').split(',') #反斜杠n 用，分开\n",
    "    list2 = f.readline().strip('\\n').split(',')\n",
    "\n",
    "a1 = list1[0]\n",
    "a2 = list2[0]\n",
    "list1 = list1[1:]\n",
    "list2 = list2[1:]\n",
    "print (a1)\n",
    "print (a2)\n",
    "print (list1)\n",
    "print (list2)"
   ]
  },
  {
   "cell_type": "code",
   "execution_count": 26,
   "id": "90baa6b6",
   "metadata": {},
   "outputs": [
    {
     "data": {
      "text/plain": [
       "[2.27e-12, 2.24e-12, 2.3e-12, 2.25e-12, 2.22e-12, 2.25e-12, 2.24e-12]"
      ]
     },
     "execution_count": 26,
     "metadata": {},
     "output_type": "execute_result"
    }
   ],
   "source": [
    "for i, j in enumerate(list1):\n",
    "    list1[i] = float(j)\n",
    "list1"
   ]
  },
  {
   "cell_type": "code",
   "execution_count": null,
   "id": "e933a84f",
   "metadata": {},
   "outputs": [],
   "source": []
  }
 ],
 "metadata": {
  "kernelspec": {
   "display_name": "Python 3",
   "language": "python",
   "name": "python3"
  },
  "language_info": {
   "codemirror_mode": {
    "name": "ipython",
    "version": 3
   },
   "file_extension": ".py",
   "mimetype": "text/x-python",
   "name": "python",
   "nbconvert_exporter": "python",
   "pygments_lexer": "ipython3",
   "version": "3.8.8"
  }
 },
 "nbformat": 4,
 "nbformat_minor": 5
}
