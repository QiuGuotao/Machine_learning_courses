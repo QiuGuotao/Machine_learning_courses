{
 "cells": [
  {
   "cell_type": "code",
   "execution_count": 1,
   "id": "5d2b73b6",
   "metadata": {},
   "outputs": [],
   "source": [
    "import numpy as np\n",
    "import pandas as pd"
   ]
  },
  {
   "cell_type": "code",
   "execution_count": 8,
   "id": "f3cf49f7",
   "metadata": {},
   "outputs": [],
   "source": [
    "columns_names = ['formular', 'db_center', 'ad_energy']\n",
    "data = pd.read_csv('db_center.csv', names = columns_names)"
   ]
  },
  {
   "cell_type": "code",
   "execution_count": 9,
   "id": "ed31b341",
   "metadata": {
    "scrolled": true
   },
   "outputs": [
    {
     "data": {
      "text/html": [
       "<div>\n",
       "<style scoped>\n",
       "    .dataframe tbody tr th:only-of-type {\n",
       "        vertical-align: middle;\n",
       "    }\n",
       "\n",
       "    .dataframe tbody tr th {\n",
       "        vertical-align: top;\n",
       "    }\n",
       "\n",
       "    .dataframe thead th {\n",
       "        text-align: right;\n",
       "    }\n",
       "</style>\n",
       "<table border=\"1\" class=\"dataframe\">\n",
       "  <thead>\n",
       "    <tr style=\"text-align: right;\">\n",
       "      <th></th>\n",
       "      <th>formular</th>\n",
       "      <th>db_center</th>\n",
       "      <th>ad_energy</th>\n",
       "    </tr>\n",
       "  </thead>\n",
       "  <tbody>\n",
       "    <tr>\n",
       "      <th>0</th>\n",
       "      <td>Cu12Co</td>\n",
       "      <td>-1.33</td>\n",
       "      <td>-0.547</td>\n",
       "    </tr>\n",
       "    <tr>\n",
       "      <th>1</th>\n",
       "      <td>Cu12Rh</td>\n",
       "      <td>-1.57</td>\n",
       "      <td>-0.591</td>\n",
       "    </tr>\n",
       "    <tr>\n",
       "      <th>2</th>\n",
       "      <td>Cu12Ir</td>\n",
       "      <td>-1.74</td>\n",
       "      <td>-0.420</td>\n",
       "    </tr>\n",
       "    <tr>\n",
       "      <th>3</th>\n",
       "      <td>Cu12Ni</td>\n",
       "      <td>-1.21</td>\n",
       "      <td>-0.674</td>\n",
       "    </tr>\n",
       "    <tr>\n",
       "      <th>4</th>\n",
       "      <td>Cu12Pd</td>\n",
       "      <td>-2.01</td>\n",
       "      <td>-0.500</td>\n",
       "    </tr>\n",
       "  </tbody>\n",
       "</table>\n",
       "</div>"
      ],
      "text/plain": [
       "  formular  db_center  ad_energy\n",
       "0   Cu12Co      -1.33     -0.547\n",
       "1   Cu12Rh      -1.57     -0.591\n",
       "2   Cu12Ir      -1.74     -0.420\n",
       "3   Cu12Ni      -1.21     -0.674\n",
       "4   Cu12Pd      -2.01     -0.500"
      ]
     },
     "execution_count": 9,
     "metadata": {},
     "output_type": "execute_result"
    }
   ],
   "source": [
    "data.head()"
   ]
  },
  {
   "cell_type": "code",
   "execution_count": 10,
   "id": "3ca7aaae",
   "metadata": {},
   "outputs": [
    {
     "name": "stdout",
     "output_type": "stream",
     "text": [
      "[[-1.33]\n",
      " [-1.57]\n",
      " [-1.74]\n",
      " [-1.21]\n",
      " [-2.01]\n",
      " [-1.78]\n",
      " [-2.33]\n",
      " [-4.13]\n",
      " [-3.12]]\n",
      "[-0.547 -0.591 -0.42  -0.674 -0.5   -0.391 -0.316 -0.201 -0.298]\n"
     ]
    }
   ],
   "source": [
    "X = data['db_center'].values.reshape(-1,1)\n",
    "y = data['ad_energy'].values\n",
    "print(X)\n",
    "print(y)"
   ]
  },
  {
   "cell_type": "code",
   "execution_count": 14,
   "id": "5001f21a",
   "metadata": {},
   "outputs": [],
   "source": [
    "from sklearn.linear_model import LinearRegression #线性回归的模块，sklearn 机器学习库"
   ]
  },
  {
   "cell_type": "code",
   "execution_count": 15,
   "id": "151c34fb",
   "metadata": {},
   "outputs": [
    {
     "name": "stdout",
     "output_type": "stream",
     "text": [
      "R2=0.7646612597264623\n"
     ]
    }
   ],
   "source": [
    "lr = LinearRegression()\n",
    "lr.fit(X,y)\n",
    "\n",
    "R2 = lr.score(X,y)\n",
    "print('R2=' + str(R2))"
   ]
  },
  {
   "cell_type": "code",
   "execution_count": 17,
   "id": "2fdb300b",
   "metadata": {},
   "outputs": [
    {
     "name": "stdout",
     "output_type": "stream",
     "text": [
      "[-0.14221031]\n",
      "-0.7412535628655477\n"
     ]
    }
   ],
   "source": [
    "coef = lr.coef_  #斜率\n",
    "intercept = lr.intercept_  #截距\n",
    "print(coef)\n",
    "print(intercept)"
   ]
  },
  {
   "cell_type": "code",
   "execution_count": 19,
   "id": "c276e113",
   "metadata": {},
   "outputs": [
    {
     "name": "stdout",
     "output_type": "stream",
     "text": [
      "print=[-0.42839089]\n"
     ]
    }
   ],
   "source": [
    "predicts = lr.predict([[-2.2]]) #预测, x= -2.2 , y = ?\n",
    "print('print=' + str(predicts))"
   ]
  },
  {
   "cell_type": "code",
   "execution_count": 20,
   "id": "f4518a8b",
   "metadata": {},
   "outputs": [],
   "source": [
    "from sklearn.metrics import mean_absolute_error, mean_squared_error"
   ]
  },
  {
   "cell_type": "code",
   "execution_count": 22,
   "id": "dacca2a3",
   "metadata": {},
   "outputs": [
    {
     "name": "stdout",
     "output_type": "stream",
     "text": [
      "MAE = 0.060\n",
      "MSE = 0.005\n"
     ]
    }
   ],
   "source": [
    "MAE = mean_absolute_error(y_true = y, y_pred = lr.predict(X))\n",
    "MSE = mean_squared_error(y_true = y, y_pred = lr.predict(X))\n",
    "print('MAE = %.3f' % (MAE))\n",
    "print('MSE = %.3f' % (MSE))"
   ]
  },
  {
   "cell_type": "code",
   "execution_count": 23,
   "id": "00153f97",
   "metadata": {},
   "outputs": [],
   "source": [
    "import matplotlib.pyplot as plt"
   ]
  },
  {
   "cell_type": "code",
   "execution_count": 34,
   "id": "c7b785aa",
   "metadata": {},
   "outputs": [
    {
     "data": {
      "image/png": "[encoded data removed]",
      "text/plain": [
       "<Figure size 432x288 with 1 Axes>"
      ]
     },
     "metadata": {
      "needs_background": "light"
     },
     "output_type": "display_data"
    }
   ],
   "source": [
    "x = data['db_center'].values\n",
    "plt.scatter(x,y, label = 'actual value')\n",
    "plt.plot(x, lr.predict(X), color = 'red', label = 'predicted value')\n",
    "plt.legend()\n",
    "#plt.savefig('aaa.jpg') #保存图片\n",
    "plt.show()"
   ]
  },
  {
   "cell_type": "code",
   "execution_count": null,
   "id": "a4e15e52",
   "metadata": {},
   "outputs": [],
   "source": []
  }
 ],
 "metadata": {
  "kernelspec": {
   "display_name": "Python 3",
   "language": "python",
   "name": "python3"
  },
  "language_info": {
   "codemirror_mode": {
    "name": "ipython",
    "version": 3
   },
   "file_extension": ".py",
   "mimetype": "text/x-python",
   "name": "python",
   "nbconvert_exporter": "python",
   "pygments_lexer": "ipython3",
   "version": "3.8.8"
  }
 },
 "nbformat": 4,
 "nbformat_minor": 5
}
